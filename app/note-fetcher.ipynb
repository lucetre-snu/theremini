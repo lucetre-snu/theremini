{
 "cells": [
  {
   "cell_type": "code",
   "execution_count": 21,
   "metadata": {},
   "outputs": [],
   "source": [
    "import requests\n",
    "import xmltodict\n",
    "import os\n",
    "\n",
    "url = 'https://d1pzp51pvbm36p.cloudfront.net/'\n",
    "response = requests.get(url)\n",
    "data = xmltodict.parse(response.content)\n"
   ]
  },
  {
   "cell_type": "code",
   "execution_count": 16,
   "metadata": {},
   "outputs": [
    {
     "name": "stdout",
     "output_type": "stream",
     "text": [
      "accordion-mp3 A0.mp3\n"
     ]
    }
   ],
   "source": [
    "def download_mp3(inst, note):\n",
    "    print(inst, note)\n",
    "    remote_url = f'https://d1pzp51pvbm36p.cloudfront.net/FluidR3_GM/{inst}/{note}'\n",
    "    local_file = f'{inst}/{note}'\n",
    "\n",
    "    directory = os.path.dirname(local_file)\n",
    "    if not os.path.exists(directory):\n",
    "        os.makedirs(directory)\n",
    "\n",
    "    data = requests.get(remote_url)\n",
    "    with open(local_file, 'wb')as file:\n",
    "        file.write(data.content)\n",
    "\n",
    "# download_mp3(\"accordion-mp3\", \"A0.mp3\")"
   ]
  },
  {
   "cell_type": "code",
   "execution_count": 1,
   "metadata": {},
   "outputs": [
    {
     "name": "stdout",
     "output_type": "stream",
     "text": [
      "A0 A1 A2 A3 A4 A5 A6 A7 Ab1 Ab2 Ab3 Ab4 Ab5 Ab6 Ab7 B0 B1 B2 B3 B4 B5 B6 B7 Bb0 Bb1 Bb2 Bb3 Bb4 Bb5 Bb6 Bb7 C1 C2 C3 C4 C5 C6 C7 C8 D1 D2 D3 D4 D5 D6 D7 Db1 Db2 Db3 Db4 Db5 Db6 Db7 E1 E2 E3 E4 E5 E6 E7 Eb1 Eb2 Eb3 Eb4 Eb5 Eb6 Eb7 F1 F2 F3 F4 F5 F6 F7 G1 G2 G3 G4 G5 G6 G7 Gb1 Gb2 Gb3 Gb4 Gb5 Gb6 Gb7 "
     ]
    }
   ],
   "source": [
    "for note in 'A0.mp3 A1.mp3 A2.mp3 A3.mp3 A4.mp3 A5.mp3 A6.mp3 A7.mp3 Ab1.mp3 Ab2.mp3 Ab3.mp3 Ab4.mp3 Ab5.mp3 Ab6.mp3 Ab7.mp3 B0.mp3 B1.mp3 B2.mp3 B3.mp3 B4.mp3 B5.mp3 B6.mp3 B7.mp3 Bb0.mp3 Bb1.mp3 Bb2.mp3 Bb3.mp3 Bb4.mp3 Bb5.mp3 Bb6.mp3 Bb7.mp3 C1.mp3 C2.mp3 C3.mp3 C4.mp3 C5.mp3 C6.mp3 C7.mp3 C8.mp3 D1.mp3 D2.mp3 D3.mp3 D4.mp3 D5.mp3 D6.mp3 D7.mp3 Db1.mp3 Db2.mp3 Db3.mp3 Db4.mp3 Db5.mp3 Db6.mp3 Db7.mp3 E1.mp3 E2.mp3 E3.mp3 E4.mp3 E5.mp3 E6.mp3 E7.mp3 Eb1.mp3 Eb2.mp3 Eb3.mp3 Eb4.mp3 Eb5.mp3 Eb6.mp3 Eb7.mp3 F1.mp3 F2.mp3 F3.mp3 F4.mp3 F5.mp3 F6.mp3 F7.mp3 G1.mp3 G2.mp3 G3.mp3 G4.mp3 G5.mp3 G6.mp3 G7.mp3 Gb1.mp3 Gb2.mp3 Gb3.mp3 Gb4.mp3 Gb5.mp3 Gb6.mp3 Gb7.mp3'.split():\n",
    "    print(note.split('.')[0], end=\" \")"
   ]
  },
  {
   "cell_type": "code",
   "execution_count": 31,
   "metadata": {},
   "outputs": [],
   "source": [
    "def download_inst(inst):\n",
    "    for note in 'A0.mp3 A1.mp3 A2.mp3 A3.mp3 A4.mp3 A5.mp3 A6.mp3 A7.mp3 Ab1.mp3 Ab2.mp3 Ab3.mp3 Ab4.mp3 Ab5.mp3 Ab6.mp3 Ab7.mp3 B0.mp3 B1.mp3 B2.mp3 B3.mp3 B4.mp3 B5.mp3 B6.mp3 B7.mp3 Bb0.mp3 Bb1.mp3 Bb2.mp3 Bb3.mp3 Bb4.mp3 Bb5.mp3 Bb6.mp3 Bb7.mp3 C1.mp3 C2.mp3 C3.mp3 C4.mp3 C5.mp3 C6.mp3 C7.mp3 C8.mp3 D1.mp3 D2.mp3 D3.mp3 D4.mp3 D5.mp3 D6.mp3 D7.mp3 Db1.mp3 Db2.mp3 Db3.mp3 Db4.mp3 Db5.mp3 Db6.mp3 Db7.mp3 E1.mp3 E2.mp3 E3.mp3 E4.mp3 E5.mp3 E6.mp3 E7.mp3 Eb1.mp3 Eb2.mp3 Eb3.mp3 Eb4.mp3 Eb5.mp3 Eb6.mp3 Eb7.mp3 F1.mp3 F2.mp3 F3.mp3 F4.mp3 F5.mp3 F6.mp3 F7.mp3 G1.mp3 G2.mp3 G3.mp3 G4.mp3 G5.mp3 G6.mp3 G7.mp3 Gb1.mp3 Gb2.mp3 Gb3.mp3 Gb4.mp3 Gb5.mp3 Gb6.mp3 Gb7.mp3'.split():\n",
    "        try:\n",
    "            download_mp3(inst, note)\n",
    "        except:\n",
    "            continue\n",
    "\n",
    "# download_inst('bassoon-mp3')"
   ]
  },
  {
   "cell_type": "code",
   "execution_count": 43,
   "metadata": {},
   "outputs": [],
   "source": [
    "# for file in data['ListBucketResult']['Contents']:\n",
    "#     try:\n",
    "#         inst = file['Key'].split('/')[1]\n",
    "#         note = file['Key'].split('/')[2]\n",
    "#         download_mp3(inst, note)\n",
    "#     except:\n",
    "#         continue"
   ]
  },
  {
   "cell_type": "code",
   "execution_count": 37,
   "metadata": {},
   "outputs": [],
   "source": [
    "resp = requests.get('https://d1pzp51pvbm36p.cloudfront.net/FluidR3_GM/names.json')\n",
    "insts = resp.json()"
   ]
  },
  {
   "cell_type": "code",
   "execution_count": 45,
   "metadata": {},
   "outputs": [
    {
     "name": "stdout",
     "output_type": "stream",
     "text": [
      "celesta-mp3 A0.mp3\n",
      "celesta-mp3 A1.mp3\n",
      "celesta-mp3 A2.mp3\n",
      "celesta-mp3 A3.mp3\n",
      "celesta-mp3 A4.mp3\n",
      "celesta-mp3 A5.mp3\n",
      "celesta-mp3 A6.mp3\n",
      "celesta-mp3 A7.mp3\n"
     ]
    }
   ],
   "source": [
    "for inst in insts:\n",
    "    if (inst[0] > 'b'):\n",
    "        download_inst(f'{inst}-mp3')"
   ]
  }
 ],
 "metadata": {
  "interpreter": {
   "hash": "aee8b7b246df8f9039afb4144a1f6fd8d2ca17a180786b69acc140d282b71a49"
  },
  "kernelspec": {
   "display_name": "Python 3.10.3 64-bit",
   "language": "python",
   "name": "python3"
  },
  "language_info": {
   "codemirror_mode": {
    "name": "ipython",
    "version": 3
   },
   "file_extension": ".py",
   "mimetype": "text/x-python",
   "name": "python",
   "nbconvert_exporter": "python",
   "pygments_lexer": "ipython3",
   "version": "3.10.3"
  },
  "orig_nbformat": 4
 },
 "nbformat": 4,
 "nbformat_minor": 2
}
